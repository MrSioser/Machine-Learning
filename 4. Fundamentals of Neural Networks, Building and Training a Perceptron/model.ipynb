{
 "cells": [
  {
   "cell_type": "markdown",
   "id": "673f7615",
   "metadata": {},
   "source": [
    "### <Center> **Fundamentals of Neural Networks: Building and Training a Perceptron** </Center> "
   ]
  },
  {
   "cell_type": "code",
   "execution_count": 93,
   "id": "808ab74e",
   "metadata": {},
   "outputs": [],
   "source": [
    "import torch\n",
    "import torch.nn as nn\n",
    "import torch.optim as optim\n",
    "from sklearn.model_selection import train_test_split\n",
    "from sklearn.preprocessing import StandardScaler\n",
    "from sklearn.metrics import accuracy_score, classification_report, roc_curve, auc\n",
    "import pandas as pd\n",
    "import matplotlib.pyplot as plt\n",
    "import numpy as np\n",
    "import seaborn as sns\n",
    "import os"
   ]
  },
  {
   "cell_type": "code",
   "execution_count": 94,
   "id": "df3ddb2b",
   "metadata": {},
   "outputs": [
    {
     "name": "stdout",
     "output_type": "stream",
     "text": [
      "True\n"
     ]
    }
   ],
   "source": [
    "print(os.path.exists(\"variant5-heart-disease.csv\"))"
   ]
  },
  {
   "cell_type": "code",
   "execution_count": 95,
   "id": "2da5dba0",
   "metadata": {},
   "outputs": [],
   "source": [
    "data = pd.read_csv(\"variant5-heart-disease.csv\", encoding='latin1')"
   ]
  },
  {
   "cell_type": "code",
   "execution_count": 96,
   "id": "3623a57c",
   "metadata": {},
   "outputs": [
    {
     "name": "stdout",
     "output_type": "stream",
     "text": [
      "ï»¿age      0\n",
      "sex         0\n",
      "cp          0\n",
      "trestbps    0\n",
      "chol        0\n",
      "fbs         0\n",
      "restecg     0\n",
      "thalach     0\n",
      "exang       0\n",
      "oldpeak     0\n",
      "slope       0\n",
      "ca          0\n",
      "thal        0\n",
      "target      0\n",
      "dtype: int64\n"
     ]
    }
   ],
   "source": [
    "print(data.isnull().sum())"
   ]
  },
  {
   "cell_type": "code",
   "execution_count": 97,
   "id": "e93cd21c",
   "metadata": {},
   "outputs": [
    {
     "name": "stdout",
     "output_type": "stream",
     "text": [
      "Розмір даних: (303, 14)\n"
     ]
    }
   ],
   "source": [
    "print(\"Розмір даних:\", data.shape)"
   ]
  },
  {
   "cell_type": "code",
   "execution_count": 98,
   "id": "08cba7e4",
   "metadata": {},
   "outputs": [
    {
     "name": "stdout",
     "output_type": "stream",
     "text": [
      "columns count -  14 \n",
      "\n",
      "columns:  ['ï»¿age', 'sex', 'cp', 'trestbps', 'chol', 'fbs', 'restecg', 'thalach', 'exang', 'oldpeak', 'slope', 'ca', 'thal', 'target']\n"
     ]
    }
   ],
   "source": [
    "print('columns count - ',len(data.columns), '\\n')\n",
    "print('columns: ',list(data.columns))"
   ]
  },
  {
   "cell_type": "code",
   "execution_count": 99,
   "id": "17af0151",
   "metadata": {},
   "outputs": [
    {
     "name": "stdout",
     "output_type": "stream",
     "text": [
      "<class 'pandas.core.frame.DataFrame'>\n",
      "RangeIndex: 303 entries, 0 to 302\n",
      "Data columns (total 14 columns):\n",
      " #   Column    Non-Null Count  Dtype  \n",
      "---  ------    --------------  -----  \n",
      " 0   ï»¿age    303 non-null    int64  \n",
      " 1   sex       303 non-null    int64  \n",
      " 2   cp        303 non-null    int64  \n",
      " 3   trestbps  303 non-null    int64  \n",
      " 4   chol      303 non-null    int64  \n",
      " 5   fbs       303 non-null    int64  \n",
      " 6   restecg   303 non-null    int64  \n",
      " 7   thalach   303 non-null    int64  \n",
      " 8   exang     303 non-null    int64  \n",
      " 9   oldpeak   303 non-null    float64\n",
      " 10  slope     303 non-null    int64  \n",
      " 11  ca        303 non-null    int64  \n",
      " 12  thal      303 non-null    int64  \n",
      " 13  target    303 non-null    int64  \n",
      "dtypes: float64(1), int64(13)\n",
      "memory usage: 33.3 KB\n"
     ]
    }
   ],
   "source": [
    "data.info()"
   ]
  },
  {
   "cell_type": "code",
   "execution_count": 100,
   "id": "eb39ebc9",
   "metadata": {},
   "outputs": [],
   "source": [
    "# Drop the ID column and separate features and target\n",
    "X = data.drop(columns=['target']).values \n",
    "y = data['target'].values"
   ]
  },
  {
   "cell_type": "code",
   "execution_count": 101,
   "id": "2a0712eb",
   "metadata": {},
   "outputs": [],
   "source": [
    "# Split the dataset into training and testing sets\n",
    "X_train, X_test, y_train, y_test = train_test_split(X, y, test_size=0.2, random_state=42)"
   ]
  },
  {
   "cell_type": "code",
   "execution_count": 102,
   "id": "b6190c84",
   "metadata": {},
   "outputs": [
    {
     "data": {
      "text/html": [
       "<div>\n",
       "<style scoped>\n",
       "    .dataframe tbody tr th:only-of-type {\n",
       "        vertical-align: middle;\n",
       "    }\n",
       "\n",
       "    .dataframe tbody tr th {\n",
       "        vertical-align: top;\n",
       "    }\n",
       "\n",
       "    .dataframe thead th {\n",
       "        text-align: right;\n",
       "    }\n",
       "</style>\n",
       "<table border=\"1\" class=\"dataframe\">\n",
       "  <thead>\n",
       "    <tr style=\"text-align: right;\">\n",
       "      <th></th>\n",
       "      <th>ï»¿age</th>\n",
       "      <th>sex</th>\n",
       "      <th>cp</th>\n",
       "      <th>trestbps</th>\n",
       "      <th>chol</th>\n",
       "      <th>fbs</th>\n",
       "      <th>restecg</th>\n",
       "      <th>thalach</th>\n",
       "      <th>exang</th>\n",
       "      <th>oldpeak</th>\n",
       "      <th>slope</th>\n",
       "      <th>ca</th>\n",
       "      <th>thal</th>\n",
       "      <th>target</th>\n",
       "    </tr>\n",
       "  </thead>\n",
       "  <tbody>\n",
       "    <tr>\n",
       "      <th>0</th>\n",
       "      <td>63</td>\n",
       "      <td>1</td>\n",
       "      <td>3</td>\n",
       "      <td>145</td>\n",
       "      <td>233</td>\n",
       "      <td>1</td>\n",
       "      <td>0</td>\n",
       "      <td>150</td>\n",
       "      <td>0</td>\n",
       "      <td>2.3</td>\n",
       "      <td>0</td>\n",
       "      <td>0</td>\n",
       "      <td>1</td>\n",
       "      <td>1</td>\n",
       "    </tr>\n",
       "    <tr>\n",
       "      <th>1</th>\n",
       "      <td>37</td>\n",
       "      <td>1</td>\n",
       "      <td>2</td>\n",
       "      <td>130</td>\n",
       "      <td>250</td>\n",
       "      <td>0</td>\n",
       "      <td>1</td>\n",
       "      <td>187</td>\n",
       "      <td>0</td>\n",
       "      <td>3.5</td>\n",
       "      <td>0</td>\n",
       "      <td>0</td>\n",
       "      <td>2</td>\n",
       "      <td>1</td>\n",
       "    </tr>\n",
       "    <tr>\n",
       "      <th>2</th>\n",
       "      <td>41</td>\n",
       "      <td>0</td>\n",
       "      <td>1</td>\n",
       "      <td>130</td>\n",
       "      <td>204</td>\n",
       "      <td>0</td>\n",
       "      <td>0</td>\n",
       "      <td>172</td>\n",
       "      <td>0</td>\n",
       "      <td>1.4</td>\n",
       "      <td>2</td>\n",
       "      <td>0</td>\n",
       "      <td>2</td>\n",
       "      <td>1</td>\n",
       "    </tr>\n",
       "    <tr>\n",
       "      <th>3</th>\n",
       "      <td>56</td>\n",
       "      <td>1</td>\n",
       "      <td>1</td>\n",
       "      <td>120</td>\n",
       "      <td>236</td>\n",
       "      <td>0</td>\n",
       "      <td>1</td>\n",
       "      <td>178</td>\n",
       "      <td>0</td>\n",
       "      <td>0.8</td>\n",
       "      <td>2</td>\n",
       "      <td>0</td>\n",
       "      <td>2</td>\n",
       "      <td>1</td>\n",
       "    </tr>\n",
       "    <tr>\n",
       "      <th>4</th>\n",
       "      <td>57</td>\n",
       "      <td>0</td>\n",
       "      <td>0</td>\n",
       "      <td>120</td>\n",
       "      <td>354</td>\n",
       "      <td>0</td>\n",
       "      <td>1</td>\n",
       "      <td>163</td>\n",
       "      <td>1</td>\n",
       "      <td>0.6</td>\n",
       "      <td>2</td>\n",
       "      <td>0</td>\n",
       "      <td>2</td>\n",
       "      <td>1</td>\n",
       "    </tr>\n",
       "  </tbody>\n",
       "</table>\n",
       "</div>"
      ],
      "text/plain": [
       "   ï»¿age  sex  cp  trestbps  chol  fbs  restecg  thalach  exang  oldpeak  \\\n",
       "0      63    1   3       145   233    1        0      150      0      2.3   \n",
       "1      37    1   2       130   250    0        1      187      0      3.5   \n",
       "2      41    0   1       130   204    0        0      172      0      1.4   \n",
       "3      56    1   1       120   236    0        1      178      0      0.8   \n",
       "4      57    0   0       120   354    0        1      163      1      0.6   \n",
       "\n",
       "   slope  ca  thal  target  \n",
       "0      0   0     1       1  \n",
       "1      0   0     2       1  \n",
       "2      2   0     2       1  \n",
       "3      2   0     2       1  \n",
       "4      2   0     2       1  "
      ]
     },
     "execution_count": 102,
     "metadata": {},
     "output_type": "execute_result"
    }
   ],
   "source": [
    "data.head()"
   ]
  },
  {
   "cell_type": "code",
   "execution_count": 103,
   "id": "d2ff7ed8",
   "metadata": {},
   "outputs": [],
   "source": [
    "# Standardize the feature values for better training performance\n",
    "scaler = StandardScaler()\n",
    "X_train_scaled = pd.DataFrame(scaler.fit_transform(X_train))\n",
    "X_test_scaled = pd.DataFrame(scaler.transform(X_test)) "
   ]
  },
  {
   "cell_type": "code",
   "execution_count": 104,
   "id": "1812b2c7",
   "metadata": {},
   "outputs": [],
   "source": [
    "# Convert data to PyTorch tensors\n",
    "X_train_tensor = torch.tensor(X_train_scaled.values, dtype=torch.float32) # Training features as a tensor\n",
    "y_train_tensor = torch.tensor(y_train, dtype=torch.float32).unsqueeze(1) # Training labels as a tensor\n",
    "X_test_tensor = torch.tensor(X_test_scaled.values, dtype=torch.float32) # Testing features as a tensor\n",
    "y_test_tensor = torch.tensor(y_test, dtype=torch.float32).unsqueeze(1) # Testing labels as a tensor"
   ]
  },
  {
   "cell_type": "code",
   "execution_count": 105,
   "id": "8cc97238",
   "metadata": {},
   "outputs": [],
   "source": [
    "# Define a simple Multi-Layer Perceptron (MLP) for binary classification\n",
    "class BinaryClassificationMLP(nn.Module):\n",
    "    def __init__(self, input_size, hidden_size, output_size):\n",
    "      super(BinaryClassificationMLP, self).__init__()\n",
    "      self.hidden_layer = nn.Linear(input_size, hidden_size) # First layer (input to hidden)\n",
    "      self.output_layer = nn.Linear(hidden_size, output_size) # Second layer (hidden to output)\n",
    "      self.relu = nn.ReLU() # ReLU activation function for hidden layer\n",
    "      self.sigmoid = nn.Sigmoid() # Sigmoid activation for output layer\n",
    "    def forward(self, x):\n",
    "      x = self.hidden_layer(x) # Linear transformation for the hidden layer\n",
    "      x = self.relu(x) # Apply ReLU activation\n",
    "      x = self.output_layer(x) # Linear transformation for the output layer\n",
    "      x = self.sigmoid(x) # Apply sigmoid activation for binary classification\n",
    "      return x"
   ]
  },
  {
   "cell_type": "code",
   "execution_count": 106,
   "id": "654c838e",
   "metadata": {},
   "outputs": [],
   "source": [
    "# Set hyperparameters\n",
    "input_size = X_train.shape[1] # Number of features in the dataset\n",
    "hidden_size = 45 # Number of neurons in the hidden layer\n",
    "output_size = 1 # Binary classification output\n",
    "learning_rate = 0.01 # Learning rate for the optimizer\n",
    "num_epochs = 1000 # Number of epochs to train the model"
   ]
  },
  {
   "cell_type": "code",
   "execution_count": 107,
   "id": "a09efac5",
   "metadata": {},
   "outputs": [
    {
     "data": {
      "text/plain": [
       "Adam (\n",
       "Parameter Group 0\n",
       "    amsgrad: False\n",
       "    betas: (0.9, 0.999)\n",
       "    capturable: False\n",
       "    decoupled_weight_decay: False\n",
       "    differentiable: False\n",
       "    eps: 1e-08\n",
       "    foreach: None\n",
       "    fused: None\n",
       "    lr: 0.01\n",
       "    maximize: False\n",
       "    weight_decay: 0\n",
       ")"
      ]
     },
     "execution_count": 107,
     "metadata": {},
     "output_type": "execute_result"
    }
   ],
   "source": [
    "# Initialize the model, loss function, and optimizer\n",
    "model = BinaryClassificationMLP(input_size, hidden_size, output_size) # Create the model instance\n",
    "criterion = nn.BCELoss() # Binary Cross-Entropy Loss\n",
    "optimizer = optim.Adam(model.parameters(), lr=learning_rate) # Adam \n",
    "optimizer"
   ]
  },
  {
   "cell_type": "code",
   "execution_count": 108,
   "id": "e9d13685",
   "metadata": {},
   "outputs": [],
   "source": [
    "# Metrics and logging\n",
    "losses = []\n",
    "accuracies = []"
   ]
  },
  {
   "cell_type": "code",
   "execution_count": 109,
   "id": "68acec65",
   "metadata": {},
   "outputs": [
    {
     "name": "stdout",
     "output_type": "stream",
     "text": [
      "Epoch [50/1000], Loss: 0.2140, Accuracy: 93.39%\n",
      "Epoch [100/1000], Loss: 0.0760, Accuracy: 98.35%\n",
      "Epoch [150/1000], Loss: 0.0286, Accuracy: 99.17%\n",
      "Epoch [200/1000], Loss: 0.0134, Accuracy: 100.00%\n",
      "Epoch [250/1000], Loss: 0.0075, Accuracy: 100.00%\n",
      "Epoch [300/1000], Loss: 0.0048, Accuracy: 100.00%\n",
      "Epoch [350/1000], Loss: 0.0033, Accuracy: 100.00%\n",
      "Epoch [400/1000], Loss: 0.0024, Accuracy: 100.00%\n",
      "Epoch [450/1000], Loss: 0.0019, Accuracy: 100.00%\n",
      "Epoch [500/1000], Loss: 0.0015, Accuracy: 100.00%\n",
      "Epoch [550/1000], Loss: 0.0012, Accuracy: 100.00%\n",
      "Epoch [600/1000], Loss: 0.0010, Accuracy: 100.00%\n",
      "Epoch [650/1000], Loss: 0.0008, Accuracy: 100.00%\n",
      "Epoch [700/1000], Loss: 0.0007, Accuracy: 100.00%\n",
      "Epoch [750/1000], Loss: 0.0006, Accuracy: 100.00%\n",
      "Epoch [800/1000], Loss: 0.0005, Accuracy: 100.00%\n",
      "Epoch [850/1000], Loss: 0.0005, Accuracy: 100.00%\n",
      "Epoch [900/1000], Loss: 0.0004, Accuracy: 100.00%\n",
      "Epoch [950/1000], Loss: 0.0004, Accuracy: 100.00%\n",
      "Epoch [1000/1000], Loss: 0.0003, Accuracy: 100.00%\n"
     ]
    }
   ],
   "source": [
    "# Training loop\n",
    "model.train() # Set the model to training mode\n",
    "for epoch in range(num_epochs):\n",
    " # Forward pass: compute predictions\n",
    " outputs = model(X_train_tensor)\n",
    " # Compute the loss between predictions and actual labels\n",
    " loss = criterion(outputs, y_train_tensor)\n",
    " losses.append(loss.item())\n",
    " # Convert predictions to binary values (0 or 1)\n",
    " predictions = (outputs.detach().numpy() > 0.5).astype(int)\n",
    " y_train_numpy = y_train_tensor.numpy()\n",
    " accuracy = accuracy_score(y_train_numpy, predictions)\n",
    " accuracies.append(accuracy)\n",
    " # Backward pass: compute gradients and update weights\n",
    " optimizer.zero_grad() # Clear previous gradients\n",
    " loss.backward() # Compute gradients\n",
    " optimizer.step() # Update weights based on gradients\n",
    " # Print loss and accuracy every 100 epochs for monitoring\n",
    " if (epoch + 1) % 50 == 0:\n",
    "   print(f'Epoch [{epoch + 1}/{num_epochs}], Loss: {loss.item():.4f}, Accuracy: {accuracy * 100:.2f}%')\n"
   ]
  },
  {
   "cell_type": "code",
   "execution_count": 110,
   "id": "0c3c9c16",
   "metadata": {},
   "outputs": [],
   "source": [
    "# Evaluate the model on the test dataset\n",
    "model.eval() # Set the model to evaluation mode\n",
    "\n",
    "with torch.no_grad(): # Disable gradient computation for evaluation\n",
    "    outputs = model(X_test_tensor) # Compute predictions\n",
    "    test_loss = criterion(outputs, y_test_tensor) # Compute the loss for the test set"
   ]
  },
  {
   "cell_type": "code",
   "execution_count": 111,
   "id": "97f9ed1a",
   "metadata": {},
   "outputs": [],
   "source": [
    "# Convert predictions to binary values (0 or 1)\n",
    "test_predictions = (outputs.numpy() > 0.5).astype(int)\n",
    "y_test_numpy = y_test_tensor.numpy()"
   ]
  },
  {
   "cell_type": "code",
   "execution_count": 112,
   "id": "844b4891",
   "metadata": {},
   "outputs": [
    {
     "name": "stdout",
     "output_type": "stream",
     "text": [
      "Test Loss: 5.2640\n",
      "Test Accuracy: 81.97%\n"
     ]
    }
   ],
   "source": [
    "# Compute metrics\n",
    "test_accuracy = accuracy_score(y_test_numpy, test_predictions)\n",
    "print(f'Test Loss: {test_loss.item():.4f}')\n",
    "print(f'Test Accuracy: {test_accuracy * 100:.2f}%')"
   ]
  },
  {
   "cell_type": "code",
   "execution_count": 113,
   "id": "15f0905e",
   "metadata": {},
   "outputs": [
    {
     "name": "stdout",
     "output_type": "stream",
     "text": [
      "              precision    recall  f1-score   support\n",
      "\n",
      "     Class 0       0.80      0.83      0.81        29\n",
      "     Class 1       0.84      0.81      0.83        32\n",
      "\n",
      "    accuracy                           0.82        61\n",
      "   macro avg       0.82      0.82      0.82        61\n",
      "weighted avg       0.82      0.82      0.82        61\n",
      "\n"
     ]
    }
   ],
   "source": [
    "# Generate a classification report\n",
    "print(classification_report(y_test_numpy, test_predictions, \n",
    "target_names=[\"Class 0\", \"Class 1\"]))"
   ]
  },
  {
   "cell_type": "code",
   "execution_count": 114,
   "id": "5dcfa505",
   "metadata": {},
   "outputs": [],
   "source": [
    "# Compute ROC curve and AUC\n",
    "y_probabilities = outputs.numpy() # Get predicted probabilities\n",
    "fpr, tpr, _ = roc_curve(y_test_numpy, y_probabilities)\n",
    "roc_auc = auc(fpr, tpr)"
   ]
  },
  {
   "cell_type": "code",
   "execution_count": 115,
   "id": "393547f7",
   "metadata": {},
   "outputs": [
    {
     "data": {
      "image/png": "[encoded data removed]",
      "text/plain": [
       "<Figure size 700x500 with 1 Axes>"
      ]
     },
     "metadata": {},
     "output_type": "display_data"
    },
    {
     "data": {
      "image/png": "[encoded data removed]",
      "text/plain": [
       "<Figure size 1200x500 with 2 Axes>"
      ]
     },
     "metadata": {},
     "output_type": "display_data"
    }
   ],
   "source": [
    "# Plot ROC curve\n",
    "plt.figure(figsize=(7, 5))\n",
    "plt.plot(fpr, tpr, color='blue', lw=2, label=f'ROC curve (AUC = {roc_auc:.2f})')\n",
    "plt.plot([0, 1], [0, 1], color='gray', linestyle='--') # Diagonal line (random guess)\n",
    "plt.xlim([0.0, 1.0])\n",
    "plt.ylim([0.0, 1.05])\n",
    "plt.xlabel('False Positive Rate')\n",
    "plt.ylabel('True Positive Rate')\n",
    "plt.title('Receiver Operating Characteristic (ROC) Curve')\n",
    "plt.legend(loc='lower right')\n",
    "plt.show()\n",
    "\n",
    "# Plot loss and accuracy curves\n",
    "plt.figure(figsize=(12, 5))\n",
    "\n",
    "# Plot training loss\n",
    "plt.subplot(1, 2, 1)\n",
    "plt.plot(range(len(losses)), losses, label='Loss')\n",
    "plt.xlabel('Epochs')\n",
    "plt.ylabel('Loss')\n",
    "plt.title('Training Loss')\n",
    "plt.legend()\n",
    "\n",
    "# Plot training accuracy\n",
    "plt.subplot(1, 2, 2)\n",
    "plt.plot(range(len(accuracies)), accuracies, label='Accuracy', color='orange')\n",
    "plt.xlabel('Epochs')\n",
    "plt.ylabel('Accuracy')\n",
    "plt.title('Training Accuracy')\n",
    "plt.legend()\n",
    "plt.tight_layout()\n",
    "plt.show()"
   ]
  },
  {
   "cell_type": "markdown",
   "id": "fca7a820",
   "metadata": {},
   "source": [
    "У межах лабораторної роботи було реалізовано багатошаровий перцептрон (MLP) для розв'язання задачі бінарної класифікації. Основною метою дослідження було вивчити, як саме різні гіперпараметри моделі — зокрема кількість нейронів у прихованому шарі, кількість епох та швидкість навчання — впливають на якість навчання, точність класифікації та загальну поведінку мережі.\n",
    "\n",
    "Провівши низку експериментів, я з'ясувала, що найкращих результатів можна досягнути за умови правильного балансу між складністю архітектури моделі та обсягом навчання. Зокрема, використання надто простої мережі з одним нейроном у прихованому шарі не дало змоги досягти високої точності — у такому випадку модель не мала достатньої гнучкості для вивчення залежностей у даних. У свою чергу, надто мала кількість епох, наприклад 100, виявилася недостатньою навіть для моделей із прийнятною архітектурою: модель просто не встигала навчитись, що проявлялося у низькій точності, відсутності зменшення функції втрат та нездатності розпізнати один із класів.\n",
    "\n",
    "Навпаки, при збільшенні кількості епох до 500 і вище точність значно зростала, модель мала достатньо часу для навчання, втрати зменшувались плавно, а якість класифікації обох класів була збалансованою. Помітним було також те, що використання швидкості навчання 0.001 забезпечувало стабільну і передбачувану динаміку збіжності. Водночас підвищення цього параметра до 0.01 прискорювало навчання, але лише за умови, що архітектура мережі залишалась помірною. Якщо ж водночас з великим кроком навчання збільшувалась і кількість нейронів до 45 і більше, то вже спостерігалося перенавчання. У таких випадках модель досягала 100% точності на тренувальних даних, але втрачала здатність узагальнювати, що проявлялось у різкому зростанні функції втрат на тестових даних, незважаючи на формально хорошу тестову точність.\n",
    "\n",
    "Таким чином, я переконалася, що найкращі результати були досягнуті при помірній архітектурі (близько 3–10 нейронів у прихованому шарі), середній швидкості навчання (0.001 або 0.01) та достатній кількості епох (від 500 до 1000). Саме в таких конфігураціях модель демонструвала найкращу збалансованість між точністю, здатністю до узагальнення та стабільністю навчання. Занадто складні або занадто прості моделі виявилися менш ефективними, і це підтвердило важливість розумного підбору гіперпараметрів під конкретну задачу."
   ]
  },
  {
   "cell_type": "markdown",
   "id": "57b26540",
   "metadata": {},
   "source": []
  },
  {
   "cell_type": "markdown",
   "id": "c64ab975",
   "metadata": {},
   "source": [
    "PyTorch <br>\n",
    "\n",
    "Активаційні функції:<br>\n",
    "У прихованому шарі використано ReLU (Rectified Linear Unit) — вона забезпечує ефективне навчання, дозволяє уникнути затухання градієнта.<br>\n",
    "У вихідному шарі — Sigmoid, яка перетворює вихід у діапазон [0,1], що ідеально підходить для задач бінарної класифікації.<br>\n",
    "\n",
    "Функція втрат:<br>\n",
    "BCELoss (Binary Cross Entropy Loss) — використовується для оцінки помилки в бінарній класифікації. Вона добре працює з виходом sigmoid.<br>\n",
    "\n",
    "Архітектура мережі:<br>\n",
    "Модель складається з:<br>\n",
    "вхідного шару (кількість нейронів = кількість ознак у датасеті),<br>\n",
    "одного прихованого шару з N нейронів (змінюється під час експериментів),<br>\n",
    "вихідного шару з одним нейроном.<br>\n",
    "\n",
    "Імплементація на PyTorch є кращою завдяки модульності, масштабованості та наявності автоматичного диференціювання. PyTorch дозволяє швидко змінювати архітектуру, візуалізувати процес тренування та легко інтегрувати нові функціональності. У рамках експериментів було виявлено, що зі збільшенням кількості нейронів та кількості епох модель суттєво покращує точність, досягаючи понад 96% точності, що свідчить про її високу ефективність."
   ]
  },
  {
   "cell_type": "markdown",
   "id": "1588baaf",
   "metadata": {},
   "source": [
    "NumPy-імплементації<br>\n",
    "Активаційні функції:<br>\n",
    "У прихованому шарі використовується ReLU.<br>\n",
    "У вихідному шарі — Sigmoid, що генерує ймовірність класу.<br>\n",
    "\n",
    "Функція втрат:<br>\n",
    "Реалізована вручну через обчислення бінарної кросентропії<br>\n",
    "\n",
    "Архітектура мережі:<br>\n",
    "Вхідний шар (2 нейрони)<br>\n",
    "Прихований шар (4 нейрони, ReLU)<br>\n",
    "Вихідний шар (1 нейрон, Sigmoid)<br>\n",
    "\n",
    "Імплементація на NumPy є базовою, придатною для навчання принципам роботи нейронної мережі. Однак вона потребує ручної реалізації всіх етапів: прямого та зворотного поширення, функцій активації та втрат. Тому в реальних задачах перевага однозначно за PyTorch, який забезпечує більшу ефективність, простоту та точність."
   ]
  },
  {
   "cell_type": "markdown",
   "id": "8cdb622e",
   "metadata": {},
   "source": []
  }
 ],
 "metadata": {
  "kernelspec": {
   "display_name": "Python 3",
   "language": "python",
   "name": "python3"
  },
  "language_info": {
   "codemirror_mode": {
    "name": "ipython",
    "version": 3
   },
   "file_extension": ".py",
   "mimetype": "text/x-python",
   "name": "python",
   "nbconvert_exporter": "python",
   "pygments_lexer": "ipython3",
   "version": "3.13.2"
  }
 },
 "nbformat": 4,
 "nbformat_minor": 5
}
